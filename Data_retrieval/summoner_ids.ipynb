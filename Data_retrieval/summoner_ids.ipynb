{
 "cells": [
  {
   "cell_type": "code",
   "execution_count": 1,
   "metadata": {},
   "outputs": [],
   "source": [
    "\n",
    "from pymongo import MongoClient\n",
    "from dotenv import load_dotenv\n",
    "import os\n",
    "import requests\n",
    "\n",
    "load_dotenv()\n",
    "API_KEY=os.getenv(\"API_KEY\")"
   ]
  },
  {
   "cell_type": "code",
   "execution_count": 47,
   "metadata": {},
   "outputs": [
    {
     "name": "stdout",
     "output_type": "stream",
     "text": [
      "{'_id': ObjectId('66aff9822def10b982cf29e4'), 'summonerId': 'e8zQNQCwPVbHjWOlErrbN7m-JJzqNlOWVj5yx8T4EG8VUReL'}\n",
      "{'_id': ObjectId('66aff9822def10b982cf29e5'), 'summonerId': '1IqGVSxnd8vfthh7pex415PIw51JiE9HCtgFDRDDZ6dUQmrQ'}\n",
      "{'_id': ObjectId('66aff9822def10b982cf29e6'), 'summonerId': 'WPN78DvFL7XrSWjmpIq2WceIXlUybHEEib868wqkrxDak6UT'}\n",
      "{'_id': ObjectId('66aff9822def10b982cf29e7'), 'summonerId': 'vdvygusGlaxaNOWbGkOf_dvNhn1evBJNlHQ0rTLo6btJfPIv'}\n",
      "{'_id': ObjectId('66aff9822def10b982cf29e8'), 'summonerId': 'qnWXfUIGXKI97HaRnkGX6hFV6EK4NE_uOd0GYdDhMQd51dRK'}\n",
      "{'_id': ObjectId('66aff9822def10b982cf29e9'), 'summonerId': 'LFxctrslh94ogoCFrw8kDsqlivfqutWg_UO60ueXxN5LS5CW'}\n"
     ]
    }
   ],
   "source": [
    "\n",
    "client= MongoClient('mongodb://localhost:27017/')\n",
    "db= client['Riot_DB']\n",
    "\n",
    "summonerId_collection= db['Summoner_IDs']\n",
    "\n",
    "for num, x in enumerate(summonerId_collection.find()):\n",
    "  if num>5:\n",
    "    break\n",
    "  print(x)"
   ]
  },
  {
   "cell_type": "code",
   "execution_count": null,
   "metadata": {},
   "outputs": [],
   "source": [
    "def get_summoner_ids(division=\"IV\",tier=\"PLATINUM\",queue=\"RANKED_SOLO_5x5\",page=1):\n",
    "    ranked_players_url=f\"https://na1.api.riotgames.com/lol/league/v4/entries/{queue}/{tier}/{division}?page={page}&api_key=\"+API_KEY\n",
    "\n",
    "    response=(requests.get(ranked_players_url)).json()\n",
    "\n",
    "    data=\"\"\n",
    "    for player in response:\n",
    "        summonerId=player.get(\"summonerId\")\n",
    "\n",
    "        if summonerId is None:\n",
    "            break\n",
    "\n",
    "        data={\n",
    "            \"summonerId\":summonerId\n",
    "        }\n",
    "\n",
    "        summonerId_collection.insert_one(data)\n",
    "\n",
    "\n",
    "\n",
    "for num in range(200,280):\n",
    "    get_summoner_ids(page=num)"
   ]
  },
  {
   "cell_type": "markdown",
   "metadata": {},
   "source": [
    "**Search for summonerId**"
   ]
  },
  {
   "cell_type": "code",
   "execution_count": null,
   "metadata": {},
   "outputs": [],
   "source": [
    "query= {\"summonerId\":'vdvygusGlaxaNOWbGkOf_dvNhn1evBJNlHQ0rTLo6btJfPIv'}\n",
    "results= summonerId_collection.find(query)\n",
    "\n",
    "for id in results:\n",
    "    print(id)\n"
   ]
  },
  {
   "cell_type": "markdown",
   "metadata": {},
   "source": [
    "**Delete all Data**"
   ]
  },
  {
   "cell_type": "code",
   "execution_count": null,
   "metadata": {},
   "outputs": [],
   "source": [
    "result = summonerId_collection.delete_many({})\n",
    "print(f\"Number of documents deleted: {result.deleted_count}\")"
   ]
  },
  {
   "cell_type": "markdown",
   "metadata": {},
   "source": [
    "**Number of entries in collection**"
   ]
  },
  {
   "cell_type": "code",
   "execution_count": 45,
   "metadata": {},
   "outputs": [
    {
     "data": {
      "text/plain": [
       "120307"
      ]
     },
     "execution_count": 45,
     "metadata": {},
     "output_type": "execute_result"
    }
   ],
   "source": [
    "count= summonerId_collection.count_documents({})\n",
    "count"
   ]
  }
 ],
 "metadata": {
  "kernelspec": {
   "display_name": "worldz",
   "language": "python",
   "name": "python3"
  },
  "language_info": {
   "codemirror_mode": {
    "name": "ipython",
    "version": 3
   },
   "file_extension": ".py",
   "mimetype": "text/x-python",
   "name": "python",
   "nbconvert_exporter": "python",
   "pygments_lexer": "ipython3",
   "version": "3.9.7"
  }
 },
 "nbformat": 4,
 "nbformat_minor": 2
}
